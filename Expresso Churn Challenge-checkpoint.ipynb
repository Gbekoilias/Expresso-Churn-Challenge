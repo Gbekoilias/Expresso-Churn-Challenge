{
 "cells": [
  {
   "cell_type": "markdown",
   "id": "41703b13-4308-40f1-971f-30b109beb5e4",
   "metadata": {},
   "source": [
    "### import the relevant libaries"
   ]
  },
  {
   "cell_type": "code",
   "execution_count": 3,
   "id": "6cc4a28e-bbc9-4d01-959d-6b59c76e38aa",
   "metadata": {},
   "outputs": [],
   "source": [
    "import os\n",
    "import pandas as pd\n",
    "import numpy as np\n",
    "import seaborn as sns\n",
    "import matplotlib.pyplot as plt\n",
    "import matplotlib.pylab as plb\n",
    "import warnings\n",
    "import lightgbm as lgb\n",
    "warnings.filterwarnings(\"ignore\")\n",
    "sns.set()\n",
    "%matplotlib inline\n",
    "sns.set_style('whitegrid')"
   ]
  },
  {
   "cell_type": "markdown",
   "id": "294142a7-6abf-411e-b7ce-e735e7889e75",
   "metadata": {},
   "source": [
    "### read out the necessary file"
   ]
  },
  {
   "cell_type": "code",
   "execution_count": 37,
   "id": "29d22417-2f4c-43d8-a788-7fb5d1117a3f",
   "metadata": {},
   "outputs": [],
   "source": [
    "test = pd.read_csv('Test.csv')\n",
    "train = pd.read_csv('Train.csv')\n",
    "samplesubmission = pd.read_csv('SampleSubmission.csv')"
   ]
  },
  {
   "cell_type": "code",
   "execution_count": 5,
   "id": "349aef17-949a-4a2d-8f83-0bb10651350b",
   "metadata": {},
   "outputs": [
    {
     "name": "stdout",
     "output_type": "stream",
     "text": [
      "['.ipynb_checkpoints', 'catboost_info', 'College_Data.csv', 'EXPRESSO.ipynb', 'K Means Clustering Project - Solutions.ipynb', 'K Means Clustering Project .ipynb', 'K Means Clustering with Python.ipynb', 'K-Means Clustering Work Book.ipynb', 'SampleSubmission.csv', 'sub_blendedprediction.csv', 'sub_blendedprediction55.csv', 'sub_catboostreg.csv', 'sub_catboost_1000_iter.csv', 'sub_dtreereg.csv', 'sub_lightgbmreg.csv', 'sub_logreg.csv', 'sub_RDCreg.csv', 'sub_seniormancatboost.csv', 'sub_stacking.csv', 'sub_voting.csv', 'Test.csv', 'Train.csv']\n"
     ]
    }
   ],
   "source": [
    "print(os.listdir(os.getcwd()))"
   ]
  },
  {
   "cell_type": "code",
   "execution_count": 6,
   "id": "47970718-418d-4fba-b2ce-d2da68ee6093",
   "metadata": {},
   "outputs": [
    {
     "data": {
      "text/plain": [
       "'C:\\\\Users\\\\gbekoilias\\\\Desktop\\\\DATA SCIENCE\\\\PIERIAN DS COURSE\\\\IPYNB\\\\Python-Data-Science-and-Machine-Learning-Bootcamp\\\\Machine Learning Sections\\\\K-Means-Clustering'"
      ]
     },
     "execution_count": 6,
     "metadata": {},
     "output_type": "execute_result"
    }
   ],
   "source": [
    "os.getcwd()"
   ]
  },
  {
   "cell_type": "markdown",
   "id": "cfa879cb-c144-4870-8356-fd3a39bed7ea",
   "metadata": {},
   "source": [
    "###check relevant information about the dataset given"
   ]
  },
  {
   "cell_type": "code",
   "execution_count": 7,
   "id": "d68e07b1-ff88-4be8-930c-c071407b6d05",
   "metadata": {},
   "outputs": [
    {
     "data": {
      "text/html": [
       "<div>\n",
       "<style scoped>\n",
       "    .dataframe tbody tr th:only-of-type {\n",
       "        vertical-align: middle;\n",
       "    }\n",
       "\n",
       "    .dataframe tbody tr th {\n",
       "        vertical-align: top;\n",
       "    }\n",
       "\n",
       "    .dataframe thead th {\n",
       "        text-align: right;\n",
       "    }\n",
       "</style>\n",
       "<table border=\"1\" class=\"dataframe\">\n",
       "  <thead>\n",
       "    <tr style=\"text-align: right;\">\n",
       "      <th></th>\n",
       "      <th>user_id</th>\n",
       "      <th>REGION</th>\n",
       "      <th>TENURE</th>\n",
       "      <th>MONTANT</th>\n",
       "      <th>FREQUENCE_RECH</th>\n",
       "      <th>REVENUE</th>\n",
       "      <th>ARPU_SEGMENT</th>\n",
       "      <th>FREQUENCE</th>\n",
       "      <th>DATA_VOLUME</th>\n",
       "      <th>ON_NET</th>\n",
       "      <th>ORANGE</th>\n",
       "      <th>TIGO</th>\n",
       "      <th>ZONE1</th>\n",
       "      <th>ZONE2</th>\n",
       "      <th>MRG</th>\n",
       "      <th>REGULARITY</th>\n",
       "      <th>TOP_PACK</th>\n",
       "      <th>FREQ_TOP_PACK</th>\n",
       "    </tr>\n",
       "  </thead>\n",
       "  <tbody>\n",
       "    <tr>\n",
       "      <th>0</th>\n",
       "      <td>00001dbe00e56fc4b1c1b65dda63de2a5ece55f9</td>\n",
       "      <td>THIES</td>\n",
       "      <td>K &gt; 24 month</td>\n",
       "      <td>5000.0</td>\n",
       "      <td>5.0</td>\n",
       "      <td>5000.0</td>\n",
       "      <td>1667.0</td>\n",
       "      <td>5.0</td>\n",
       "      <td>NaN</td>\n",
       "      <td>378.0</td>\n",
       "      <td>11.0</td>\n",
       "      <td>5.0</td>\n",
       "      <td>NaN</td>\n",
       "      <td>NaN</td>\n",
       "      <td>NO</td>\n",
       "      <td>42</td>\n",
       "      <td>On-net 1000F=10MilF;10d</td>\n",
       "      <td>5.0</td>\n",
       "    </tr>\n",
       "    <tr>\n",
       "      <th>1</th>\n",
       "      <td>000055d41c8a62052dd426592e8a4a3342bf565d</td>\n",
       "      <td>NaN</td>\n",
       "      <td>I 18-21 month</td>\n",
       "      <td>300.0</td>\n",
       "      <td>2.0</td>\n",
       "      <td>326.0</td>\n",
       "      <td>109.0</td>\n",
       "      <td>3.0</td>\n",
       "      <td>397.0</td>\n",
       "      <td>NaN</td>\n",
       "      <td>0.0</td>\n",
       "      <td>NaN</td>\n",
       "      <td>NaN</td>\n",
       "      <td>NaN</td>\n",
       "      <td>NO</td>\n",
       "      <td>41</td>\n",
       "      <td>Data: 100 F=40MB,24H</td>\n",
       "      <td>1.0</td>\n",
       "    </tr>\n",
       "    <tr>\n",
       "      <th>2</th>\n",
       "      <td>000081dd3245e6869a4a9c574c7050e7bb84c2c8</td>\n",
       "      <td>DAKAR</td>\n",
       "      <td>K &gt; 24 month</td>\n",
       "      <td>3300.0</td>\n",
       "      <td>25.0</td>\n",
       "      <td>3400.0</td>\n",
       "      <td>1133.0</td>\n",
       "      <td>26.0</td>\n",
       "      <td>7150.0</td>\n",
       "      <td>0.0</td>\n",
       "      <td>2.0</td>\n",
       "      <td>5.0</td>\n",
       "      <td>NaN</td>\n",
       "      <td>NaN</td>\n",
       "      <td>NO</td>\n",
       "      <td>57</td>\n",
       "      <td>Data: 100 F=40MB,24H</td>\n",
       "      <td>22.0</td>\n",
       "    </tr>\n",
       "    <tr>\n",
       "      <th>3</th>\n",
       "      <td>0000b76d2145d9445d9ff6b65c9ebc4196c89337</td>\n",
       "      <td>NaN</td>\n",
       "      <td>K &gt; 24 month</td>\n",
       "      <td>NaN</td>\n",
       "      <td>NaN</td>\n",
       "      <td>NaN</td>\n",
       "      <td>NaN</td>\n",
       "      <td>NaN</td>\n",
       "      <td>NaN</td>\n",
       "      <td>NaN</td>\n",
       "      <td>NaN</td>\n",
       "      <td>NaN</td>\n",
       "      <td>NaN</td>\n",
       "      <td>NaN</td>\n",
       "      <td>NO</td>\n",
       "      <td>9</td>\n",
       "      <td>NaN</td>\n",
       "      <td>NaN</td>\n",
       "    </tr>\n",
       "    <tr>\n",
       "      <th>4</th>\n",
       "      <td>0000bae5480628cf8fe51ad84bcb39772fc79224</td>\n",
       "      <td>NaN</td>\n",
       "      <td>K &gt; 24 month</td>\n",
       "      <td>NaN</td>\n",
       "      <td>NaN</td>\n",
       "      <td>NaN</td>\n",
       "      <td>NaN</td>\n",
       "      <td>NaN</td>\n",
       "      <td>NaN</td>\n",
       "      <td>NaN</td>\n",
       "      <td>NaN</td>\n",
       "      <td>NaN</td>\n",
       "      <td>NaN</td>\n",
       "      <td>NaN</td>\n",
       "      <td>NO</td>\n",
       "      <td>10</td>\n",
       "      <td>NaN</td>\n",
       "      <td>NaN</td>\n",
       "    </tr>\n",
       "  </tbody>\n",
       "</table>\n",
       "</div>"
      ],
      "text/plain": [
       "                                    user_id REGION         TENURE  MONTANT  \\\n",
       "0  00001dbe00e56fc4b1c1b65dda63de2a5ece55f9  THIES   K > 24 month   5000.0   \n",
       "1  000055d41c8a62052dd426592e8a4a3342bf565d    NaN  I 18-21 month    300.0   \n",
       "2  000081dd3245e6869a4a9c574c7050e7bb84c2c8  DAKAR   K > 24 month   3300.0   \n",
       "3  0000b76d2145d9445d9ff6b65c9ebc4196c89337    NaN   K > 24 month      NaN   \n",
       "4  0000bae5480628cf8fe51ad84bcb39772fc79224    NaN   K > 24 month      NaN   \n",
       "\n",
       "   FREQUENCE_RECH  REVENUE  ARPU_SEGMENT  FREQUENCE  DATA_VOLUME  ON_NET  \\\n",
       "0             5.0   5000.0        1667.0        5.0          NaN   378.0   \n",
       "1             2.0    326.0         109.0        3.0        397.0     NaN   \n",
       "2            25.0   3400.0        1133.0       26.0       7150.0     0.0   \n",
       "3             NaN      NaN           NaN        NaN          NaN     NaN   \n",
       "4             NaN      NaN           NaN        NaN          NaN     NaN   \n",
       "\n",
       "   ORANGE  TIGO  ZONE1  ZONE2 MRG  REGULARITY                 TOP_PACK  \\\n",
       "0    11.0   5.0    NaN    NaN  NO          42  On-net 1000F=10MilF;10d   \n",
       "1     0.0   NaN    NaN    NaN  NO          41     Data: 100 F=40MB,24H   \n",
       "2     2.0   5.0    NaN    NaN  NO          57     Data: 100 F=40MB,24H   \n",
       "3     NaN   NaN    NaN    NaN  NO           9                      NaN   \n",
       "4     NaN   NaN    NaN    NaN  NO          10                      NaN   \n",
       "\n",
       "   FREQ_TOP_PACK  \n",
       "0            5.0  \n",
       "1            1.0  \n",
       "2           22.0  \n",
       "3            NaN  \n",
       "4            NaN  "
      ]
     },
     "execution_count": 7,
     "metadata": {},
     "output_type": "execute_result"
    }
   ],
   "source": [
    "test.head()"
   ]
  },
  {
   "cell_type": "code",
   "execution_count": 8,
   "id": "f01580f4-53a2-410c-9129-04ddf77e1256",
   "metadata": {},
   "outputs": [
    {
     "data": {
      "text/plain": [
       "(380127, 18)"
      ]
     },
     "execution_count": 8,
     "metadata": {},
     "output_type": "execute_result"
    }
   ],
   "source": [
    "test.shape"
   ]
  },
  {
   "cell_type": "code",
   "execution_count": 9,
   "id": "87c3927a-9647-42ce-9d36-f029dd9f46ec",
   "metadata": {},
   "outputs": [
    {
     "name": "stdout",
     "output_type": "stream",
     "text": [
      "<class 'pandas.core.frame.DataFrame'>\n",
      "RangeIndex: 2154048 entries, 0 to 2154047\n",
      "Data columns (total 19 columns):\n",
      " #   Column          Dtype  \n",
      "---  ------          -----  \n",
      " 0   user_id         object \n",
      " 1   REGION          object \n",
      " 2   TENURE          object \n",
      " 3   MONTANT         float64\n",
      " 4   FREQUENCE_RECH  float64\n",
      " 5   REVENUE         float64\n",
      " 6   ARPU_SEGMENT    float64\n",
      " 7   FREQUENCE       float64\n",
      " 8   DATA_VOLUME     float64\n",
      " 9   ON_NET          float64\n",
      " 10  ORANGE          float64\n",
      " 11  TIGO            float64\n",
      " 12  ZONE1           float64\n",
      " 13  ZONE2           float64\n",
      " 14  MRG             object \n",
      " 15  REGULARITY      int64  \n",
      " 16  TOP_PACK        object \n",
      " 17  FREQ_TOP_PACK   float64\n",
      " 18  CHURN           int64  \n",
      "dtypes: float64(12), int64(2), object(5)\n",
      "memory usage: 312.2+ MB\n"
     ]
    }
   ],
   "source": [
    "train.info()"
   ]
  },
  {
   "cell_type": "code",
   "execution_count": 10,
   "id": "45bc0297-ac11-4df6-a388-664f9005b252",
   "metadata": {},
   "outputs": [
    {
     "data": {
      "text/html": [
       "<div>\n",
       "<style scoped>\n",
       "    .dataframe tbody tr th:only-of-type {\n",
       "        vertical-align: middle;\n",
       "    }\n",
       "\n",
       "    .dataframe tbody tr th {\n",
       "        vertical-align: top;\n",
       "    }\n",
       "\n",
       "    .dataframe thead th {\n",
       "        text-align: right;\n",
       "    }\n",
       "</style>\n",
       "<table border=\"1\" class=\"dataframe\">\n",
       "  <thead>\n",
       "    <tr style=\"text-align: right;\">\n",
       "      <th></th>\n",
       "      <th>user_id</th>\n",
       "      <th>REGION</th>\n",
       "      <th>TENURE</th>\n",
       "      <th>MONTANT</th>\n",
       "      <th>FREQUENCE_RECH</th>\n",
       "      <th>REVENUE</th>\n",
       "      <th>ARPU_SEGMENT</th>\n",
       "      <th>FREQUENCE</th>\n",
       "      <th>DATA_VOLUME</th>\n",
       "      <th>ON_NET</th>\n",
       "      <th>ORANGE</th>\n",
       "      <th>TIGO</th>\n",
       "      <th>ZONE1</th>\n",
       "      <th>ZONE2</th>\n",
       "      <th>MRG</th>\n",
       "      <th>REGULARITY</th>\n",
       "      <th>TOP_PACK</th>\n",
       "      <th>FREQ_TOP_PACK</th>\n",
       "    </tr>\n",
       "  </thead>\n",
       "  <tbody>\n",
       "    <tr>\n",
       "      <th>0</th>\n",
       "      <td>00001dbe00e56fc4b1c1b65dda63de2a5ece55f9</td>\n",
       "      <td>THIES</td>\n",
       "      <td>K &gt; 24 month</td>\n",
       "      <td>5000.0</td>\n",
       "      <td>5.0</td>\n",
       "      <td>5000.0</td>\n",
       "      <td>1667.0</td>\n",
       "      <td>5.0</td>\n",
       "      <td>NaN</td>\n",
       "      <td>378.0</td>\n",
       "      <td>11.0</td>\n",
       "      <td>5.0</td>\n",
       "      <td>NaN</td>\n",
       "      <td>NaN</td>\n",
       "      <td>NO</td>\n",
       "      <td>42</td>\n",
       "      <td>On-net 1000F=10MilF;10d</td>\n",
       "      <td>5.0</td>\n",
       "    </tr>\n",
       "    <tr>\n",
       "      <th>1</th>\n",
       "      <td>000055d41c8a62052dd426592e8a4a3342bf565d</td>\n",
       "      <td>NaN</td>\n",
       "      <td>I 18-21 month</td>\n",
       "      <td>300.0</td>\n",
       "      <td>2.0</td>\n",
       "      <td>326.0</td>\n",
       "      <td>109.0</td>\n",
       "      <td>3.0</td>\n",
       "      <td>397.0</td>\n",
       "      <td>NaN</td>\n",
       "      <td>0.0</td>\n",
       "      <td>NaN</td>\n",
       "      <td>NaN</td>\n",
       "      <td>NaN</td>\n",
       "      <td>NO</td>\n",
       "      <td>41</td>\n",
       "      <td>Data: 100 F=40MB,24H</td>\n",
       "      <td>1.0</td>\n",
       "    </tr>\n",
       "    <tr>\n",
       "      <th>2</th>\n",
       "      <td>000081dd3245e6869a4a9c574c7050e7bb84c2c8</td>\n",
       "      <td>DAKAR</td>\n",
       "      <td>K &gt; 24 month</td>\n",
       "      <td>3300.0</td>\n",
       "      <td>25.0</td>\n",
       "      <td>3400.0</td>\n",
       "      <td>1133.0</td>\n",
       "      <td>26.0</td>\n",
       "      <td>7150.0</td>\n",
       "      <td>0.0</td>\n",
       "      <td>2.0</td>\n",
       "      <td>5.0</td>\n",
       "      <td>NaN</td>\n",
       "      <td>NaN</td>\n",
       "      <td>NO</td>\n",
       "      <td>57</td>\n",
       "      <td>Data: 100 F=40MB,24H</td>\n",
       "      <td>22.0</td>\n",
       "    </tr>\n",
       "    <tr>\n",
       "      <th>3</th>\n",
       "      <td>0000b76d2145d9445d9ff6b65c9ebc4196c89337</td>\n",
       "      <td>NaN</td>\n",
       "      <td>K &gt; 24 month</td>\n",
       "      <td>NaN</td>\n",
       "      <td>NaN</td>\n",
       "      <td>NaN</td>\n",
       "      <td>NaN</td>\n",
       "      <td>NaN</td>\n",
       "      <td>NaN</td>\n",
       "      <td>NaN</td>\n",
       "      <td>NaN</td>\n",
       "      <td>NaN</td>\n",
       "      <td>NaN</td>\n",
       "      <td>NaN</td>\n",
       "      <td>NO</td>\n",
       "      <td>9</td>\n",
       "      <td>NaN</td>\n",
       "      <td>NaN</td>\n",
       "    </tr>\n",
       "    <tr>\n",
       "      <th>4</th>\n",
       "      <td>0000bae5480628cf8fe51ad84bcb39772fc79224</td>\n",
       "      <td>NaN</td>\n",
       "      <td>K &gt; 24 month</td>\n",
       "      <td>NaN</td>\n",
       "      <td>NaN</td>\n",
       "      <td>NaN</td>\n",
       "      <td>NaN</td>\n",
       "      <td>NaN</td>\n",
       "      <td>NaN</td>\n",
       "      <td>NaN</td>\n",
       "      <td>NaN</td>\n",
       "      <td>NaN</td>\n",
       "      <td>NaN</td>\n",
       "      <td>NaN</td>\n",
       "      <td>NO</td>\n",
       "      <td>10</td>\n",
       "      <td>NaN</td>\n",
       "      <td>NaN</td>\n",
       "    </tr>\n",
       "  </tbody>\n",
       "</table>\n",
       "</div>"
      ],
      "text/plain": [
       "                                    user_id REGION         TENURE  MONTANT  \\\n",
       "0  00001dbe00e56fc4b1c1b65dda63de2a5ece55f9  THIES   K > 24 month   5000.0   \n",
       "1  000055d41c8a62052dd426592e8a4a3342bf565d    NaN  I 18-21 month    300.0   \n",
       "2  000081dd3245e6869a4a9c574c7050e7bb84c2c8  DAKAR   K > 24 month   3300.0   \n",
       "3  0000b76d2145d9445d9ff6b65c9ebc4196c89337    NaN   K > 24 month      NaN   \n",
       "4  0000bae5480628cf8fe51ad84bcb39772fc79224    NaN   K > 24 month      NaN   \n",
       "\n",
       "   FREQUENCE_RECH  REVENUE  ARPU_SEGMENT  FREQUENCE  DATA_VOLUME  ON_NET  \\\n",
       "0             5.0   5000.0        1667.0        5.0          NaN   378.0   \n",
       "1             2.0    326.0         109.0        3.0        397.0     NaN   \n",
       "2            25.0   3400.0        1133.0       26.0       7150.0     0.0   \n",
       "3             NaN      NaN           NaN        NaN          NaN     NaN   \n",
       "4             NaN      NaN           NaN        NaN          NaN     NaN   \n",
       "\n",
       "   ORANGE  TIGO  ZONE1  ZONE2 MRG  REGULARITY                 TOP_PACK  \\\n",
       "0    11.0   5.0    NaN    NaN  NO          42  On-net 1000F=10MilF;10d   \n",
       "1     0.0   NaN    NaN    NaN  NO          41     Data: 100 F=40MB,24H   \n",
       "2     2.0   5.0    NaN    NaN  NO          57     Data: 100 F=40MB,24H   \n",
       "3     NaN   NaN    NaN    NaN  NO           9                      NaN   \n",
       "4     NaN   NaN    NaN    NaN  NO          10                      NaN   \n",
       "\n",
       "   FREQ_TOP_PACK  \n",
       "0            5.0  \n",
       "1            1.0  \n",
       "2           22.0  \n",
       "3            NaN  \n",
       "4            NaN  "
      ]
     },
     "execution_count": 10,
     "metadata": {},
     "output_type": "execute_result"
    }
   ],
   "source": [
    "test.head()"
   ]
  },
  {
   "cell_type": "code",
   "execution_count": 38,
   "id": "8d10061c-dc95-4087-871d-4443dd34fe2a",
   "metadata": {},
   "outputs": [
    {
     "data": {
      "text/plain": [
       "(380127, 18)"
      ]
     },
     "execution_count": 38,
     "metadata": {},
     "output_type": "execute_result"
    }
   ],
   "source": [
    "test.shape"
   ]
  },
  {
   "cell_type": "code",
   "execution_count": 12,
   "id": "1b10d6e9-0057-429e-bdb2-81fa29a503a2",
   "metadata": {},
   "outputs": [
    {
     "name": "stdout",
     "output_type": "stream",
     "text": [
      "<class 'pandas.core.frame.DataFrame'>\n",
      "RangeIndex: 380127 entries, 0 to 380126\n",
      "Data columns (total 18 columns):\n",
      " #   Column          Non-Null Count   Dtype  \n",
      "---  ------          --------------   -----  \n",
      " 0   user_id         380127 non-null  object \n",
      " 1   REGION          230399 non-null  object \n",
      " 2   TENURE          380127 non-null  object \n",
      " 3   MONTANT         247072 non-null  float64\n",
      " 4   FREQUENCE_RECH  247072 non-null  float64\n",
      " 5   REVENUE         252754 non-null  float64\n",
      " 6   ARPU_SEGMENT    252754 non-null  float64\n",
      " 7   FREQUENCE       252754 non-null  float64\n",
      " 8   DATA_VOLUME     193087 non-null  float64\n",
      " 9   ON_NET          241613 non-null  float64\n",
      " 10  ORANGE          222897 non-null  float64\n",
      " 11  TIGO            153126 non-null  float64\n",
      " 12  ZONE1           29861 non-null   float64\n",
      " 13  ZONE2           24076 non-null   float64\n",
      " 14  MRG             380127 non-null  object \n",
      " 15  REGULARITY      380127 non-null  int64  \n",
      " 16  TOP_PACK        221348 non-null  object \n",
      " 17  FREQ_TOP_PACK   221348 non-null  float64\n",
      "dtypes: float64(12), int64(1), object(5)\n",
      "memory usage: 52.2+ MB\n"
     ]
    }
   ],
   "source": [
    "test.info()"
   ]
  },
  {
   "cell_type": "code",
   "execution_count": 13,
   "id": "8a81b298-43db-4ff8-981c-2e3dd0fdf0be",
   "metadata": {},
   "outputs": [
    {
     "data": {
      "text/html": [
       "<div>\n",
       "<style scoped>\n",
       "    .dataframe tbody tr th:only-of-type {\n",
       "        vertical-align: middle;\n",
       "    }\n",
       "\n",
       "    .dataframe tbody tr th {\n",
       "        vertical-align: top;\n",
       "    }\n",
       "\n",
       "    .dataframe thead th {\n",
       "        text-align: right;\n",
       "    }\n",
       "</style>\n",
       "<table border=\"1\" class=\"dataframe\">\n",
       "  <thead>\n",
       "    <tr style=\"text-align: right;\">\n",
       "      <th></th>\n",
       "      <th>user_id</th>\n",
       "      <th>CHURN</th>\n",
       "    </tr>\n",
       "  </thead>\n",
       "  <tbody>\n",
       "    <tr>\n",
       "      <th>0</th>\n",
       "      <td>00001dbe00e56fc4b1c1b65dda63de2a5ece55f9</td>\n",
       "      <td>0</td>\n",
       "    </tr>\n",
       "    <tr>\n",
       "      <th>1</th>\n",
       "      <td>000055d41c8a62052dd426592e8a4a3342bf565d</td>\n",
       "      <td>0</td>\n",
       "    </tr>\n",
       "    <tr>\n",
       "      <th>2</th>\n",
       "      <td>000081dd3245e6869a4a9c574c7050e7bb84c2c8</td>\n",
       "      <td>0</td>\n",
       "    </tr>\n",
       "    <tr>\n",
       "      <th>3</th>\n",
       "      <td>0000b76d2145d9445d9ff6b65c9ebc4196c89337</td>\n",
       "      <td>0</td>\n",
       "    </tr>\n",
       "    <tr>\n",
       "      <th>4</th>\n",
       "      <td>0000bae5480628cf8fe51ad84bcb39772fc79224</td>\n",
       "      <td>0</td>\n",
       "    </tr>\n",
       "  </tbody>\n",
       "</table>\n",
       "</div>"
      ],
      "text/plain": [
       "                                    user_id  CHURN\n",
       "0  00001dbe00e56fc4b1c1b65dda63de2a5ece55f9      0\n",
       "1  000055d41c8a62052dd426592e8a4a3342bf565d      0\n",
       "2  000081dd3245e6869a4a9c574c7050e7bb84c2c8      0\n",
       "3  0000b76d2145d9445d9ff6b65c9ebc4196c89337      0\n",
       "4  0000bae5480628cf8fe51ad84bcb39772fc79224      0"
      ]
     },
     "execution_count": 13,
     "metadata": {},
     "output_type": "execute_result"
    }
   ],
   "source": [
    "samplesubmission.head()"
   ]
  },
  {
   "cell_type": "code",
   "execution_count": 14,
   "id": "c42c7ffe-9efd-47a3-a38f-ec73c68b61d3",
   "metadata": {},
   "outputs": [
    {
     "name": "stdout",
     "output_type": "stream",
     "text": [
      "<class 'pandas.core.frame.DataFrame'>\n",
      "RangeIndex: 380127 entries, 0 to 380126\n",
      "Data columns (total 2 columns):\n",
      " #   Column   Non-Null Count   Dtype \n",
      "---  ------   --------------   ----- \n",
      " 0   user_id  380127 non-null  object\n",
      " 1   CHURN    380127 non-null  int64 \n",
      "dtypes: int64(1), object(1)\n",
      "memory usage: 5.8+ MB\n"
     ]
    }
   ],
   "source": [
    "samplesubmission.info()"
   ]
  },
  {
   "cell_type": "code",
   "execution_count": 15,
   "id": "f0939e5a-7c6b-4415-9ab1-edb949ed474c",
   "metadata": {},
   "outputs": [
    {
     "data": {
      "text/plain": [
       "(380127, 2)"
      ]
     },
     "execution_count": 15,
     "metadata": {},
     "output_type": "execute_result"
    }
   ],
   "source": [
    "samplesubmission.shape"
   ]
  },
  {
   "cell_type": "markdown",
   "id": "d932c624-6fc1-46b1-b9e0-c6f70a17baf5",
   "metadata": {},
   "source": [
    "### EXPLORATORY DATA ANALYSIS"
   ]
  },
  {
   "cell_type": "code",
   "execution_count": 16,
   "id": "47d9466a-78f4-4e9a-8923-1c0116aec53b",
   "metadata": {},
   "outputs": [
    {
     "data": {
      "text/plain": [
       "Text(0, 0.5, 'counts')"
      ]
     },
     "execution_count": 16,
     "metadata": {},
     "output_type": "execute_result"
    },
    {
     "data": {
      "image/png": "[encoded data removed]",
      "text/plain": [
       "<Figure size 864x288 with 1 Axes>"
      ]
     },
     "metadata": {},
     "output_type": "display_data"
    }
   ],
   "source": [
    "train['REGION'].value_counts()\n",
    "plt.figure(figsize=(12,4))\n",
    "train['REGION'].value_counts(normalize=True).plot(kind='bar' )\n",
    "plt.xlabel('region')\n",
    "plt.ylabel('counts')"
   ]
  },
  {
   "cell_type": "code",
   "execution_count": 17,
   "id": "a48016b7-a123-49d2-823b-326c8768cca2",
   "metadata": {},
   "outputs": [
    {
     "data": {
      "text/plain": [
       "Text(0, 0.5, 'counts')"
      ]
     },
     "execution_count": 17,
     "metadata": {},
     "output_type": "execute_result"
    },
    {
     "data": {
      "image/png": "[encoded data removed]",
      "text/plain": [
       "<Figure size 864x288 with 1 Axes>"
      ]
     },
     "metadata": {},
     "output_type": "display_data"
    }
   ],
   "source": [
    "train['TENURE'].value_counts()\n",
    "plt.figure(figsize=(12,4))\n",
    "train['TENURE'].value_counts(normalize=True).plot(kind='bar' )\n",
    "plt.xlabel('tenure')\n",
    "plt.ylabel('counts')"
   ]
  },
  {
   "cell_type": "code",
   "execution_count": 18,
   "id": "89e86dd2-e741-4659-bd25-f6e928ddcdfe",
   "metadata": {},
   "outputs": [
    {
     "data": {
      "text/plain": [
       "Text(0, 0.5, 'counts')"
      ]
     },
     "execution_count": 18,
     "metadata": {},
     "output_type": "execute_result"
    },
    {
     "data": {
      "image/png": "[encoded data removed]",
      "text/plain": [
       "<Figure size 864x288 with 1 Axes>"
      ]
     },
     "metadata": {},
     "output_type": "display_data"
    }
   ],
   "source": [
    "train['MRG'].value_counts()\n",
    "plt.figure(figsize=(12,4))\n",
    "train['MRG'].value_counts(normalize=True).plot(kind='bar' )\n",
    "plt.xlabel('mrg')\n",
    "plt.ylabel('counts')"
   ]
  },
  {
   "cell_type": "code",
   "execution_count": 19,
   "id": "dcaa98be-74ed-40cc-9cf2-fcf47f2e7b71",
   "metadata": {},
   "outputs": [
    {
     "data": {
      "text/html": [
       "<div>\n",
       "<style scoped>\n",
       "    .dataframe tbody tr th:only-of-type {\n",
       "        vertical-align: middle;\n",
       "    }\n",
       "\n",
       "    .dataframe tbody tr th {\n",
       "        vertical-align: top;\n",
       "    }\n",
       "\n",
       "    .dataframe thead th {\n",
       "        text-align: right;\n",
       "    }\n",
       "</style>\n",
       "<table border=\"1\" class=\"dataframe\">\n",
       "  <thead>\n",
       "    <tr style=\"text-align: right;\">\n",
       "      <th></th>\n",
       "      <th>count</th>\n",
       "      <th>mean</th>\n",
       "      <th>std</th>\n",
       "      <th>min</th>\n",
       "      <th>25%</th>\n",
       "      <th>50%</th>\n",
       "      <th>75%</th>\n",
       "      <th>max</th>\n",
       "    </tr>\n",
       "  </thead>\n",
       "  <tbody>\n",
       "    <tr>\n",
       "      <th>MONTANT</th>\n",
       "      <td>1397309.0</td>\n",
       "      <td>5532.116998</td>\n",
       "      <td>7111.339421</td>\n",
       "      <td>10.0</td>\n",
       "      <td>1000.0</td>\n",
       "      <td>3000.0</td>\n",
       "      <td>7350.0</td>\n",
       "      <td>470000.0</td>\n",
       "    </tr>\n",
       "    <tr>\n",
       "      <th>FREQUENCE_RECH</th>\n",
       "      <td>1397309.0</td>\n",
       "      <td>11.529120</td>\n",
       "      <td>13.274070</td>\n",
       "      <td>1.0</td>\n",
       "      <td>2.0</td>\n",
       "      <td>7.0</td>\n",
       "      <td>16.0</td>\n",
       "      <td>133.0</td>\n",
       "    </tr>\n",
       "    <tr>\n",
       "      <th>REVENUE</th>\n",
       "      <td>1428000.0</td>\n",
       "      <td>5510.810334</td>\n",
       "      <td>7187.112880</td>\n",
       "      <td>1.0</td>\n",
       "      <td>1000.0</td>\n",
       "      <td>3000.0</td>\n",
       "      <td>7368.0</td>\n",
       "      <td>532177.0</td>\n",
       "    </tr>\n",
       "    <tr>\n",
       "      <th>ARPU_SEGMENT</th>\n",
       "      <td>1428000.0</td>\n",
       "      <td>1836.942894</td>\n",
       "      <td>2395.699954</td>\n",
       "      <td>0.0</td>\n",
       "      <td>333.0</td>\n",
       "      <td>1000.0</td>\n",
       "      <td>2456.0</td>\n",
       "      <td>177392.0</td>\n",
       "    </tr>\n",
       "    <tr>\n",
       "      <th>FREQUENCE</th>\n",
       "      <td>1428000.0</td>\n",
       "      <td>13.978141</td>\n",
       "      <td>14.694035</td>\n",
       "      <td>1.0</td>\n",
       "      <td>3.0</td>\n",
       "      <td>9.0</td>\n",
       "      <td>20.0</td>\n",
       "      <td>91.0</td>\n",
       "    </tr>\n",
       "    <tr>\n",
       "      <th>DATA_VOLUME</th>\n",
       "      <td>1093615.0</td>\n",
       "      <td>3366.450167</td>\n",
       "      <td>13304.463667</td>\n",
       "      <td>0.0</td>\n",
       "      <td>0.0</td>\n",
       "      <td>257.0</td>\n",
       "      <td>2895.0</td>\n",
       "      <td>1823866.0</td>\n",
       "    </tr>\n",
       "    <tr>\n",
       "      <th>ON_NET</th>\n",
       "      <td>1367373.0</td>\n",
       "      <td>277.689140</td>\n",
       "      <td>872.688909</td>\n",
       "      <td>0.0</td>\n",
       "      <td>5.0</td>\n",
       "      <td>27.0</td>\n",
       "      <td>156.0</td>\n",
       "      <td>50809.0</td>\n",
       "    </tr>\n",
       "    <tr>\n",
       "      <th>ORANGE</th>\n",
       "      <td>1258800.0</td>\n",
       "      <td>95.418711</td>\n",
       "      <td>204.987266</td>\n",
       "      <td>0.0</td>\n",
       "      <td>7.0</td>\n",
       "      <td>29.0</td>\n",
       "      <td>99.0</td>\n",
       "      <td>21323.0</td>\n",
       "    </tr>\n",
       "    <tr>\n",
       "      <th>TIGO</th>\n",
       "      <td>864032.0</td>\n",
       "      <td>23.109253</td>\n",
       "      <td>63.578086</td>\n",
       "      <td>0.0</td>\n",
       "      <td>2.0</td>\n",
       "      <td>6.0</td>\n",
       "      <td>20.0</td>\n",
       "      <td>4174.0</td>\n",
       "    </tr>\n",
       "    <tr>\n",
       "      <th>ZONE1</th>\n",
       "      <td>169721.0</td>\n",
       "      <td>8.170132</td>\n",
       "      <td>41.169511</td>\n",
       "      <td>0.0</td>\n",
       "      <td>0.0</td>\n",
       "      <td>1.0</td>\n",
       "      <td>3.0</td>\n",
       "      <td>4792.0</td>\n",
       "    </tr>\n",
       "    <tr>\n",
       "      <th>ZONE2</th>\n",
       "      <td>136824.0</td>\n",
       "      <td>7.553309</td>\n",
       "      <td>33.487234</td>\n",
       "      <td>0.0</td>\n",
       "      <td>0.0</td>\n",
       "      <td>2.0</td>\n",
       "      <td>5.0</td>\n",
       "      <td>3697.0</td>\n",
       "    </tr>\n",
       "    <tr>\n",
       "      <th>REGULARITY</th>\n",
       "      <td>2154048.0</td>\n",
       "      <td>28.042505</td>\n",
       "      <td>22.286857</td>\n",
       "      <td>1.0</td>\n",
       "      <td>6.0</td>\n",
       "      <td>24.0</td>\n",
       "      <td>51.0</td>\n",
       "      <td>62.0</td>\n",
       "    </tr>\n",
       "    <tr>\n",
       "      <th>FREQ_TOP_PACK</th>\n",
       "      <td>1251454.0</td>\n",
       "      <td>9.272461</td>\n",
       "      <td>12.280443</td>\n",
       "      <td>1.0</td>\n",
       "      <td>2.0</td>\n",
       "      <td>5.0</td>\n",
       "      <td>12.0</td>\n",
       "      <td>713.0</td>\n",
       "    </tr>\n",
       "    <tr>\n",
       "      <th>CHURN</th>\n",
       "      <td>2154048.0</td>\n",
       "      <td>0.187547</td>\n",
       "      <td>0.390350</td>\n",
       "      <td>0.0</td>\n",
       "      <td>0.0</td>\n",
       "      <td>0.0</td>\n",
       "      <td>0.0</td>\n",
       "      <td>1.0</td>\n",
       "    </tr>\n",
       "  </tbody>\n",
       "</table>\n",
       "</div>"
      ],
      "text/plain": [
       "                    count         mean           std   min     25%     50%  \\\n",
       "MONTANT         1397309.0  5532.116998   7111.339421  10.0  1000.0  3000.0   \n",
       "FREQUENCE_RECH  1397309.0    11.529120     13.274070   1.0     2.0     7.0   \n",
       "REVENUE         1428000.0  5510.810334   7187.112880   1.0  1000.0  3000.0   \n",
       "ARPU_SEGMENT    1428000.0  1836.942894   2395.699954   0.0   333.0  1000.0   \n",
       "FREQUENCE       1428000.0    13.978141     14.694035   1.0     3.0     9.0   \n",
       "DATA_VOLUME     1093615.0  3366.450167  13304.463667   0.0     0.0   257.0   \n",
       "ON_NET          1367373.0   277.689140    872.688909   0.0     5.0    27.0   \n",
       "ORANGE          1258800.0    95.418711    204.987266   0.0     7.0    29.0   \n",
       "TIGO             864032.0    23.109253     63.578086   0.0     2.0     6.0   \n",
       "ZONE1            169721.0     8.170132     41.169511   0.0     0.0     1.0   \n",
       "ZONE2            136824.0     7.553309     33.487234   0.0     0.0     2.0   \n",
       "REGULARITY      2154048.0    28.042505     22.286857   1.0     6.0    24.0   \n",
       "FREQ_TOP_PACK   1251454.0     9.272461     12.280443   1.0     2.0     5.0   \n",
       "CHURN           2154048.0     0.187547      0.390350   0.0     0.0     0.0   \n",
       "\n",
       "                   75%        max  \n",
       "MONTANT         7350.0   470000.0  \n",
       "FREQUENCE_RECH    16.0      133.0  \n",
       "REVENUE         7368.0   532177.0  \n",
       "ARPU_SEGMENT    2456.0   177392.0  \n",
       "FREQUENCE         20.0       91.0  \n",
       "DATA_VOLUME     2895.0  1823866.0  \n",
       "ON_NET           156.0    50809.0  \n",
       "ORANGE            99.0    21323.0  \n",
       "TIGO              20.0     4174.0  \n",
       "ZONE1              3.0     4792.0  \n",
       "ZONE2              5.0     3697.0  \n",
       "REGULARITY        51.0       62.0  \n",
       "FREQ_TOP_PACK     12.0      713.0  \n",
       "CHURN              0.0        1.0  "
      ]
     },
     "execution_count": 19,
     "metadata": {},
     "output_type": "execute_result"
    }
   ],
   "source": [
    "#Check summary of numerical field datas\\n\"\n",
    "train.select_dtypes(include=['int64', 'float64']).describe().T"
   ]
  },
  {
   "cell_type": "markdown",
   "id": "58cfd41a-fee4-4436-a6c9-798116989b78",
   "metadata": {},
   "source": [
    "### CHECK OUT FOR MISSING VARIABLES (for train)"
   ]
  },
  {
   "cell_type": "code",
   "execution_count": 20,
   "id": "fcc75d36-32e9-4ecc-932a-142ea3a9eb38",
   "metadata": {},
   "outputs": [
    {
     "data": {
      "text/plain": [
       "user_id                 0\n",
       "REGION             849299\n",
       "TENURE                  0\n",
       "MONTANT            756739\n",
       "FREQUENCE_RECH     756739\n",
       "REVENUE            726048\n",
       "ARPU_SEGMENT       726048\n",
       "FREQUENCE          726048\n",
       "DATA_VOLUME       1060433\n",
       "ON_NET             786675\n",
       "ORANGE             895248\n",
       "TIGO              1290016\n",
       "ZONE1             1984327\n",
       "ZONE2             2017224\n",
       "MRG                     0\n",
       "REGULARITY              0\n",
       "TOP_PACK           902594\n",
       "FREQ_TOP_PACK      902594\n",
       "CHURN                   0\n",
       "dtype: int64"
      ]
     },
     "execution_count": 20,
     "metadata": {},
     "output_type": "execute_result"
    }
   ],
   "source": [
    "train.isnull().sum()"
   ]
  },
  {
   "cell_type": "markdown",
   "id": "e6503f80-473a-462a-b933-92be24dc4d5f",
   "metadata": {},
   "source": [
    "### CHECK OUT FOR THE MISSING VARIABLE (FOR TEST)"
   ]
  },
  {
   "cell_type": "code",
   "execution_count": 39,
   "id": "31f7652e-3df8-4560-9444-5598c2f06481",
   "metadata": {},
   "outputs": [
    {
     "data": {
      "text/plain": [
       "user_id           0.000000\n",
       "REGION            0.393889\n",
       "TENURE            0.000000\n",
       "MONTANT           0.350028\n",
       "FREQUENCE_RECH    0.350028\n",
       "REVENUE           0.335080\n",
       "ARPU_SEGMENT      0.335080\n",
       "FREQUENCE         0.335080\n",
       "DATA_VOLUME       0.492046\n",
       "ON_NET            0.364389\n",
       "ORANGE            0.413625\n",
       "TIGO              0.597171\n",
       "ZONE1             0.921445\n",
       "ZONE2             0.936663\n",
       "MRG               0.000000\n",
       "REGULARITY        0.000000\n",
       "TOP_PACK          0.417700\n",
       "FREQ_TOP_PACK     0.417700\n",
       "dtype: float64"
      ]
     },
     "execution_count": 39,
     "metadata": {},
     "output_type": "execute_result"
    }
   ],
   "source": [
    "test.isnull().sum()/len(test)"
   ]
  },
  {
   "cell_type": "code",
   "execution_count": 22,
   "id": "3d1ab578-fb3c-45f3-9af1-6124a874916d",
   "metadata": {},
   "outputs": [
    {
     "data": {
      "text/plain": [
       "Index(['user_id', 'REGION', 'TENURE', 'MONTANT', 'FREQUENCE_RECH', 'REVENUE',\n",
       "       'ARPU_SEGMENT', 'FREQUENCE', 'DATA_VOLUME', 'ON_NET', 'ORANGE', 'TIGO',\n",
       "       'ZONE1', 'ZONE2', 'MRG', 'REGULARITY', 'TOP_PACK', 'FREQ_TOP_PACK',\n",
       "       'CHURN'],\n",
       "      dtype='object')"
      ]
     },
     "execution_count": 22,
     "metadata": {},
     "output_type": "execute_result"
    }
   ],
   "source": [
    "train.columns"
   ]
  },
  {
   "cell_type": "code",
   "execution_count": 23,
   "id": "24b435d8-22e2-4db8-b13a-32e94085dc90",
   "metadata": {},
   "outputs": [
    {
     "data": {
      "text/plain": [
       "user_id    0\n",
       "CHURN      0\n",
       "dtype: int64"
      ]
     },
     "execution_count": 23,
     "metadata": {},
     "output_type": "execute_result"
    }
   ],
   "source": [
    "samplesubmission.isnull().sum()"
   ]
  },
  {
   "cell_type": "markdown",
   "id": "54ca709d-1d6e-4892-8473-c95de90221f0",
   "metadata": {},
   "source": [
    "### PROCESSING THE CATEGORICAL VARIABLE COLUMNS"
   ]
  },
  {
   "cell_type": "code",
   "execution_count": 24,
   "id": "cf757671-f43b-48d1-979a-c3cf5927c94c",
   "metadata": {
    "tags": []
   },
   "outputs": [],
   "source": [
    "from sklearn.preprocessing import LabelEncoder"
   ]
  },
  {
   "cell_type": "code",
   "execution_count": 25,
   "id": "7a4563c5-3a44-411b-bde6-a13a4f2ddba5",
   "metadata": {},
   "outputs": [
    {
     "data": {
      "text/plain": [
       "((2154048, 19), (380127, 18))"
      ]
     },
     "execution_count": 25,
     "metadata": {},
     "output_type": "execute_result"
    }
   ],
   "source": [
    "train.shape,test.shape"
   ]
  },
  {
   "cell_type": "code",
   "execution_count": 26,
   "id": "4973cee3-c1cf-411d-9709-38da1d3dfe26",
   "metadata": {},
   "outputs": [
    {
     "data": {
      "text/plain": [
       "dtype('O')"
      ]
     },
     "execution_count": 26,
     "metadata": {},
     "output_type": "execute_result"
    }
   ],
   "source": [
    "test['TENURE'].dtype"
   ]
  },
  {
   "cell_type": "code",
   "execution_count": 40,
   "id": "f5458dbf-ed11-47e0-a923-8a83f110fb25",
   "metadata": {},
   "outputs": [],
   "source": [
    "merged_data  = pd.concat([train.drop('CHURN',axis = 1),test],axis=  0).reset_index(drop = True)"
   ]
  },
  {
   "cell_type": "code",
   "execution_count": 41,
   "id": "9e87d588-f1dc-49a5-90e5-a6d2dba8e566",
   "metadata": {},
   "outputs": [
    {
     "data": {
      "text/plain": [
       "(2534175, 18)"
      ]
     },
     "execution_count": 41,
     "metadata": {},
     "output_type": "execute_result"
    }
   ],
   "source": [
    "merged_data.shape"
   ]
  },
  {
   "cell_type": "code",
   "execution_count": 42,
   "id": "1b724e7e-4a30-43d6-bfe2-8c4942ec2230",
   "metadata": {},
   "outputs": [
    {
     "data": {
      "text/html": [
       "<div>\n",
       "<style scoped>\n",
       "    .dataframe tbody tr th:only-of-type {\n",
       "        vertical-align: middle;\n",
       "    }\n",
       "\n",
       "    .dataframe tbody tr th {\n",
       "        vertical-align: top;\n",
       "    }\n",
       "\n",
       "    .dataframe thead th {\n",
       "        text-align: right;\n",
       "    }\n",
       "</style>\n",
       "<table border=\"1\" class=\"dataframe\">\n",
       "  <thead>\n",
       "    <tr style=\"text-align: right;\">\n",
       "      <th></th>\n",
       "      <th>user_id</th>\n",
       "      <th>REGION</th>\n",
       "      <th>TENURE</th>\n",
       "      <th>MONTANT</th>\n",
       "      <th>FREQUENCE_RECH</th>\n",
       "      <th>REVENUE</th>\n",
       "      <th>ARPU_SEGMENT</th>\n",
       "      <th>FREQUENCE</th>\n",
       "      <th>DATA_VOLUME</th>\n",
       "      <th>ON_NET</th>\n",
       "      <th>ORANGE</th>\n",
       "      <th>TIGO</th>\n",
       "      <th>ZONE1</th>\n",
       "      <th>ZONE2</th>\n",
       "      <th>MRG</th>\n",
       "      <th>REGULARITY</th>\n",
       "      <th>TOP_PACK</th>\n",
       "      <th>FREQ_TOP_PACK</th>\n",
       "    </tr>\n",
       "  </thead>\n",
       "  <tbody>\n",
       "    <tr>\n",
       "      <th>2534170</th>\n",
       "      <td>fffe7e03c7eede2ad0a728ee516c4d342dd16107</td>\n",
       "      <td>DAKAR</td>\n",
       "      <td>K &gt; 24 month</td>\n",
       "      <td>4000.0</td>\n",
       "      <td>8.0</td>\n",
       "      <td>3999.0</td>\n",
       "      <td>1333.0</td>\n",
       "      <td>8.0</td>\n",
       "      <td>1587.0</td>\n",
       "      <td>26.0</td>\n",
       "      <td>250.0</td>\n",
       "      <td>1.0</td>\n",
       "      <td>NaN</td>\n",
       "      <td>NaN</td>\n",
       "      <td>NO</td>\n",
       "      <td>53</td>\n",
       "      <td>Mixt 250F=Unlimited_call24H</td>\n",
       "      <td>5.0</td>\n",
       "    </tr>\n",
       "    <tr>\n",
       "      <th>2534171</th>\n",
       "      <td>fffec230e6a1aa51ab37d0051ece42de611e71c6</td>\n",
       "      <td>NaN</td>\n",
       "      <td>K &gt; 24 month</td>\n",
       "      <td>NaN</td>\n",
       "      <td>NaN</td>\n",
       "      <td>NaN</td>\n",
       "      <td>NaN</td>\n",
       "      <td>NaN</td>\n",
       "      <td>NaN</td>\n",
       "      <td>NaN</td>\n",
       "      <td>NaN</td>\n",
       "      <td>NaN</td>\n",
       "      <td>NaN</td>\n",
       "      <td>NaN</td>\n",
       "      <td>NO</td>\n",
       "      <td>1</td>\n",
       "      <td>NaN</td>\n",
       "      <td>NaN</td>\n",
       "    </tr>\n",
       "    <tr>\n",
       "      <th>2534172</th>\n",
       "      <td>ffff0dcc1ab9812bf205b6d76e9d084053cd96f5</td>\n",
       "      <td>NaN</td>\n",
       "      <td>K &gt; 24 month</td>\n",
       "      <td>3950.0</td>\n",
       "      <td>7.0</td>\n",
       "      <td>3949.0</td>\n",
       "      <td>1316.0</td>\n",
       "      <td>10.0</td>\n",
       "      <td>1724.0</td>\n",
       "      <td>25.0</td>\n",
       "      <td>71.0</td>\n",
       "      <td>NaN</td>\n",
       "      <td>NaN</td>\n",
       "      <td>NaN</td>\n",
       "      <td>NO</td>\n",
       "      <td>15</td>\n",
       "      <td>IVR Echat_Daily_50F</td>\n",
       "      <td>6.0</td>\n",
       "    </tr>\n",
       "    <tr>\n",
       "      <th>2534173</th>\n",
       "      <td>ffff91ea6a09a0c8ea42bc6ae33df4b5e06283dc</td>\n",
       "      <td>NaN</td>\n",
       "      <td>K &gt; 24 month</td>\n",
       "      <td>3850.0</td>\n",
       "      <td>18.0</td>\n",
       "      <td>3955.0</td>\n",
       "      <td>1318.0</td>\n",
       "      <td>23.0</td>\n",
       "      <td>2962.0</td>\n",
       "      <td>0.0</td>\n",
       "      <td>7.0</td>\n",
       "      <td>NaN</td>\n",
       "      <td>NaN</td>\n",
       "      <td>NaN</td>\n",
       "      <td>NO</td>\n",
       "      <td>29</td>\n",
       "      <td>Data: 100 F=40MB,24H</td>\n",
       "      <td>11.0</td>\n",
       "    </tr>\n",
       "    <tr>\n",
       "      <th>2534174</th>\n",
       "      <td>ffffb393b346f5348034e6e22be93778d94d4beb</td>\n",
       "      <td>DIOURBEL</td>\n",
       "      <td>K &gt; 24 month</td>\n",
       "      <td>NaN</td>\n",
       "      <td>NaN</td>\n",
       "      <td>NaN</td>\n",
       "      <td>NaN</td>\n",
       "      <td>NaN</td>\n",
       "      <td>NaN</td>\n",
       "      <td>0.0</td>\n",
       "      <td>NaN</td>\n",
       "      <td>NaN</td>\n",
       "      <td>NaN</td>\n",
       "      <td>NaN</td>\n",
       "      <td>NO</td>\n",
       "      <td>20</td>\n",
       "      <td>NaN</td>\n",
       "      <td>NaN</td>\n",
       "    </tr>\n",
       "  </tbody>\n",
       "</table>\n",
       "</div>"
      ],
      "text/plain": [
       "                                          user_id    REGION        TENURE  \\\n",
       "2534170  fffe7e03c7eede2ad0a728ee516c4d342dd16107     DAKAR  K > 24 month   \n",
       "2534171  fffec230e6a1aa51ab37d0051ece42de611e71c6       NaN  K > 24 month   \n",
       "2534172  ffff0dcc1ab9812bf205b6d76e9d084053cd96f5       NaN  K > 24 month   \n",
       "2534173  ffff91ea6a09a0c8ea42bc6ae33df4b5e06283dc       NaN  K > 24 month   \n",
       "2534174  ffffb393b346f5348034e6e22be93778d94d4beb  DIOURBEL  K > 24 month   \n",
       "\n",
       "         MONTANT  FREQUENCE_RECH  REVENUE  ARPU_SEGMENT  FREQUENCE  \\\n",
       "2534170   4000.0             8.0   3999.0        1333.0        8.0   \n",
       "2534171      NaN             NaN      NaN           NaN        NaN   \n",
       "2534172   3950.0             7.0   3949.0        1316.0       10.0   \n",
       "2534173   3850.0            18.0   3955.0        1318.0       23.0   \n",
       "2534174      NaN             NaN      NaN           NaN        NaN   \n",
       "\n",
       "         DATA_VOLUME  ON_NET  ORANGE  TIGO  ZONE1  ZONE2 MRG  REGULARITY  \\\n",
       "2534170       1587.0    26.0   250.0   1.0    NaN    NaN  NO          53   \n",
       "2534171          NaN     NaN     NaN   NaN    NaN    NaN  NO           1   \n",
       "2534172       1724.0    25.0    71.0   NaN    NaN    NaN  NO          15   \n",
       "2534173       2962.0     0.0     7.0   NaN    NaN    NaN  NO          29   \n",
       "2534174          NaN     0.0     NaN   NaN    NaN    NaN  NO          20   \n",
       "\n",
       "                            TOP_PACK  FREQ_TOP_PACK  \n",
       "2534170  Mixt 250F=Unlimited_call24H            5.0  \n",
       "2534171                          NaN            NaN  \n",
       "2534172          IVR Echat_Daily_50F            6.0  \n",
       "2534173         Data: 100 F=40MB,24H           11.0  \n",
       "2534174                          NaN            NaN  "
      ]
     },
     "execution_count": 42,
     "metadata": {},
     "output_type": "execute_result"
    }
   ],
   "source": [
    "merged_data.tail()"
   ]
  },
  {
   "cell_type": "code",
   "execution_count": 43,
   "id": "29e71184-07fa-4121-8543-7fad87bf1aa0",
   "metadata": {},
   "outputs": [
    {
     "name": "stdout",
     "output_type": "stream",
     "text": [
      "column name   REGION\n",
      "column name   TENURE\n",
      "column name   MRG\n",
      "column name   TOP_PACK\n"
     ]
    }
   ],
   "source": [
    "for col in test.columns:\n",
    "    if test[col].dtype == 'O' and col != 'user_id':\n",
    "        print('column name  ',col)\n",
    "        label_encoder  = LabelEncoder()\n",
    "        label_encoder.fit(merged_data[col])\n",
    "        merged_data[col] =  label_encoder.transform(merged_data[col])"
   ]
  },
  {
   "cell_type": "code",
   "execution_count": 44,
   "id": "8b6bdf51-9666-40f9-9a42-0a1905214aad",
   "metadata": {},
   "outputs": [],
   "source": [
    "target  =  train.CHURN"
   ]
  },
  {
   "cell_type": "code",
   "execution_count": 52,
   "id": "f2d2caa9-eeb8-4a6b-9de8-0cfbac05180a",
   "metadata": {},
   "outputs": [],
   "source": [
    "merged_data = merged_data.drop('user_id',axis = 1)"
   ]
  },
  {
   "cell_type": "code",
   "execution_count": 53,
   "id": "680dea56-5580-4e70-8fb6-b11847929568",
   "metadata": {},
   "outputs": [],
   "source": [
    "splitting_index =  len(train)\n",
    "train = merged_data.iloc[:splitting_index]\n",
    "test  =  merged_data.iloc[splitting_index:]"
   ]
  },
  {
   "cell_type": "markdown",
   "id": "db19e24c-bdf4-482e-a925-24580ca63eba",
   "metadata": {},
   "source": [
    "### MACHINE LEARNING ALGORITHM"
   ]
  },
  {
   "cell_type": "code",
   "execution_count": 54,
   "id": "8a41484b-e2f4-4e4e-a326-ff9bea5e3ba8",
   "metadata": {},
   "outputs": [],
   "source": [
    "from sklearn.model_selection import train_test_split\n",
    "from sklearn.model_selection import train_test_split\n",
    "from sklearn.ensemble import RandomForestClassifier,VotingClassifier,StackingClassifier,BaggingClassifier,GradientBoostingClassifier\n",
    "from sklearn.svm import SVC\n",
    "from sklearn.preprocessing import StandardScaler\n",
    "from sklearn.linear_model import LogisticRegression\n",
    "from sklearn.preprocessing import LabelEncoder\n",
    "from sklearn.metrics import accuracy_score,confusion_matrix,recall_score,precision_recall_curve, f1_score,roc_auc_score\n",
    "from sklearn.tree import DecisionTreeClassifier"
   ]
  },
  {
   "cell_type": "code",
   "execution_count": 55,
   "id": "2c9455b5-9f58-492f-9939-4e81d590c387",
   "metadata": {},
   "outputs": [],
   "source": [
    "from lightgbm import  LGBMClassifier"
   ]
  },
  {
   "cell_type": "markdown",
   "id": "5dc099ea-78c9-4198-9cc1-ae5879c8aef7",
   "metadata": {},
   "source": [
    "### SPLITTING OF THE DATASETS"
   ]
  },
  {
   "cell_type": "code",
   "execution_count": 56,
   "id": "22535679-8f50-4cb3-8464-5410cb1d5eae",
   "metadata": {},
   "outputs": [],
   "source": [
    "X=train\n",
    "y=target\n",
    "X_train, X_test, y_train, y_test = train_test_split(X, y, test_size=0.2, random_state=42)"
   ]
  },
  {
   "cell_type": "code",
   "execution_count": 57,
   "id": "bad4e64a-c0fc-4728-800d-0fb4aac8ab02",
   "metadata": {},
   "outputs": [
    {
     "data": {
      "text/plain": [
       "0.9311481511891124"
      ]
     },
     "execution_count": 57,
     "metadata": {},
     "output_type": "execute_result"
    }
   ],
   "source": [
    "lgbm_model = LGBMClassifier(random_state = 42)\n",
    "lgbm_model.fit(X_train,y_train)\n",
    "lgbm_predictions = lgbm_model.predict_proba(X_test)[:,1]\n",
    "roc_auc_score(y_test,lgbm_predictions)"
   ]
  },
  {
   "cell_type": "code",
   "execution_count": 61,
   "id": "8f5754a9-d70d-4750-90d3-bdd83ea7e40a",
   "metadata": {},
   "outputs": [],
   "source": [
    "lgbm_prediction_test =  lgbm_model.predict_proba(test)[:,1]"
   ]
  },
  {
   "cell_type": "code",
   "execution_count": 83,
   "id": "2f712c04-b9e3-4339-ab18-a79c43bc68ca",
   "metadata": {},
   "outputs": [
    {
     "data": {
      "text/plain": [
       "0.9313801352365798"
      ]
     },
     "execution_count": 83,
     "metadata": {},
     "output_type": "execute_result"
    }
   ],
   "source": [
    "blend_prediction=(cbcpredictions *0.7) + (lgbm_predictions * 0.3) \n",
    "roc_auc_score(y_test,blend_prediction)"
   ]
  },
  {
   "cell_type": "code",
   "execution_count": null,
   "id": "ec2b425d-fc18-4b90-be4a-def8de7ad3e3",
   "metadata": {},
   "outputs": [],
   "source": [
    "0.9313207024981327"
   ]
  },
  {
   "cell_type": "code",
   "execution_count": 84,
   "id": "af3213f8-4477-466b-9da9-a567ab6bd4cc",
   "metadata": {},
   "outputs": [],
   "source": [
    "blend_prediction_test=(testpredi *0.7) + (lgbm_prediction_test * 0.3) "
   ]
  },
  {
   "cell_type": "markdown",
   "id": "4c2576ad-b4d8-45ed-88f3-f510486c253f",
   "metadata": {},
   "source": [
    "### MACHINE LEARNING ALGORITHM"
   ]
  },
  {
   "cell_type": "markdown",
   "id": "c8f931f3-a711-4d82-a9e4-a0210de02f48",
   "metadata": {},
   "source": [
    "### STANDARDIZATION"
   ]
  },
  {
   "cell_type": "code",
   "execution_count": 43,
   "id": "bb4bcb15-cfa4-410c-9e0e-12ee8506eabd",
   "metadata": {},
   "outputs": [],
   "source": [
    "scaler=StandardScaler()"
   ]
  },
  {
   "cell_type": "code",
   "execution_count": 44,
   "id": "b767e583-0bc8-49c0-9bae-806ff6e06079",
   "metadata": {},
   "outputs": [
    {
     "data": {
      "text/plain": [
       "StandardScaler()"
      ]
     },
     "execution_count": 44,
     "metadata": {},
     "output_type": "execute_result"
    }
   ],
   "source": [
    "scaler.fit(xxtrain)\n"
   ]
  },
  {
   "cell_type": "code",
   "execution_count": 45,
   "id": "cd507505-7143-446e-9b50-999186848344",
   "metadata": {},
   "outputs": [],
   "source": [
    "scaled_xtrain=scaler.transform(xxtrain)\n",
    "scaled_xtest=scaler.transform(xtest)"
   ]
  },
  {
   "cell_type": "code",
   "execution_count": 46,
   "id": "d52250e0-8504-43e3-9177-00ebec891bc2",
   "metadata": {},
   "outputs": [
    {
     "data": {
      "text/html": [
       "<div>\n",
       "<style scoped>\n",
       "    .dataframe tbody tr th:only-of-type {\n",
       "        vertical-align: middle;\n",
       "    }\n",
       "\n",
       "    .dataframe tbody tr th {\n",
       "        vertical-align: top;\n",
       "    }\n",
       "\n",
       "    .dataframe thead th {\n",
       "        text-align: right;\n",
       "    }\n",
       "</style>\n",
       "<table border=\"1\" class=\"dataframe\">\n",
       "  <thead>\n",
       "    <tr style=\"text-align: right;\">\n",
       "      <th></th>\n",
       "      <th>MONTANT</th>\n",
       "      <th>FREQUENCE_RECH</th>\n",
       "      <th>REVENUE</th>\n",
       "      <th>ARPU_SEGMENT</th>\n",
       "      <th>FREQUENCE</th>\n",
       "      <th>DATA_VOLUME</th>\n",
       "      <th>ON_NET</th>\n",
       "      <th>ORANGE</th>\n",
       "      <th>TIGO</th>\n",
       "      <th>ZONE1</th>\n",
       "      <th>ZONE2</th>\n",
       "      <th>REGULARITY</th>\n",
       "      <th>FREQ_TOP_PACK</th>\n",
       "    </tr>\n",
       "  </thead>\n",
       "  <tbody>\n",
       "    <tr>\n",
       "      <th>0</th>\n",
       "      <td>-2.238504e-01</td>\n",
       "      <td>3.246513e-01</td>\n",
       "      <td>-2.152853e-01</td>\n",
       "      <td>-2.152889e-01</td>\n",
       "      <td>0.252579</td>\n",
       "      <td>-3.546942e-01</td>\n",
       "      <td>1.586511e-01</td>\n",
       "      <td>-3.153654e-01</td>\n",
       "      <td>-5.490724e-01</td>\n",
       "      <td>-6.204583e-01</td>\n",
       "      <td>-6.579922e-01</td>\n",
       "      <td>1.164700</td>\n",
       "      <td>-1.359412e-01</td>\n",
       "    </tr>\n",
       "    <tr>\n",
       "      <th>1</th>\n",
       "      <td>4.763779e-16</td>\n",
       "      <td>4.984585e-16</td>\n",
       "      <td>1.554209e-16</td>\n",
       "      <td>3.496977e-16</td>\n",
       "      <td>0.000000</td>\n",
       "      <td>-4.796986e-17</td>\n",
       "      <td>8.175326e-17</td>\n",
       "      <td>9.068654e-17</td>\n",
       "      <td>1.764598e-16</td>\n",
       "      <td>1.537148e-16</td>\n",
       "      <td>-2.104743e-16</td>\n",
       "      <td>-1.078775</td>\n",
       "      <td>1.897739e-16</td>\n",
       "    </tr>\n",
       "    <tr>\n",
       "      <th>2</th>\n",
       "      <td>-3.373367e-01</td>\n",
       "      <td>-8.913132e-01</td>\n",
       "      <td>-7.674215e-01</td>\n",
       "      <td>-7.674261e-01</td>\n",
       "      <td>-1.001180</td>\n",
       "      <td>-4.796986e-17</td>\n",
       "      <td>-2.699380e-01</td>\n",
       "      <td>-3.153654e-01</td>\n",
       "      <td>-4.000654e-01</td>\n",
       "      <td>1.537148e-16</td>\n",
       "      <td>-2.104743e-16</td>\n",
       "      <td>-0.495472</td>\n",
       "      <td>-8.837738e-01</td>\n",
       "    </tr>\n",
       "    <tr>\n",
       "      <th>3</th>\n",
       "      <td>1.391147e+00</td>\n",
       "      <td>3.246513e-01</td>\n",
       "      <td>1.365591e+00</td>\n",
       "      <td>1.365761e+00</td>\n",
       "      <td>0.336163</td>\n",
       "      <td>4.265629e+00</td>\n",
       "      <td>-3.404107e-01</td>\n",
       "      <td>4.199848e-02</td>\n",
       "      <td>-5.242379e-01</td>\n",
       "      <td>1.537148e-16</td>\n",
       "      <td>-2.104743e-16</td>\n",
       "      <td>1.523656</td>\n",
       "      <td>1.845585e-01</td>\n",
       "    </tr>\n",
       "    <tr>\n",
       "      <th>4</th>\n",
       "      <td>-7.912821e-01</td>\n",
       "      <td>-9.848489e-01</td>\n",
       "      <td>-7.734026e-01</td>\n",
       "      <td>-7.735780e-01</td>\n",
       "      <td>-1.084764</td>\n",
       "      <td>-4.796986e-17</td>\n",
       "      <td>-3.432872e-01</td>\n",
       "      <td>-4.557583e-01</td>\n",
       "      <td>1.764598e-16</td>\n",
       "      <td>1.537148e-16</td>\n",
       "      <td>-2.104743e-16</td>\n",
       "      <td>-0.764689</td>\n",
       "      <td>-7.769406e-01</td>\n",
       "    </tr>\n",
       "  </tbody>\n",
       "</table>\n",
       "</div>"
      ],
      "text/plain": [
       "        MONTANT  FREQUENCE_RECH       REVENUE  ARPU_SEGMENT  FREQUENCE  \\\n",
       "0 -2.238504e-01    3.246513e-01 -2.152853e-01 -2.152889e-01   0.252579   \n",
       "1  4.763779e-16    4.984585e-16  1.554209e-16  3.496977e-16   0.000000   \n",
       "2 -3.373367e-01   -8.913132e-01 -7.674215e-01 -7.674261e-01  -1.001180   \n",
       "3  1.391147e+00    3.246513e-01  1.365591e+00  1.365761e+00   0.336163   \n",
       "4 -7.912821e-01   -9.848489e-01 -7.734026e-01 -7.735780e-01  -1.084764   \n",
       "\n",
       "    DATA_VOLUME        ON_NET        ORANGE          TIGO         ZONE1  \\\n",
       "0 -3.546942e-01  1.586511e-01 -3.153654e-01 -5.490724e-01 -6.204583e-01   \n",
       "1 -4.796986e-17  8.175326e-17  9.068654e-17  1.764598e-16  1.537148e-16   \n",
       "2 -4.796986e-17 -2.699380e-01 -3.153654e-01 -4.000654e-01  1.537148e-16   \n",
       "3  4.265629e+00 -3.404107e-01  4.199848e-02 -5.242379e-01  1.537148e-16   \n",
       "4 -4.796986e-17 -3.432872e-01 -4.557583e-01  1.764598e-16  1.537148e-16   \n",
       "\n",
       "          ZONE2  REGULARITY  FREQ_TOP_PACK  \n",
       "0 -6.579922e-01    1.164700  -1.359412e-01  \n",
       "1 -2.104743e-16   -1.078775   1.897739e-16  \n",
       "2 -2.104743e-16   -0.495472  -8.837738e-01  \n",
       "3 -2.104743e-16    1.523656   1.845585e-01  \n",
       "4 -2.104743e-16   -0.764689  -7.769406e-01  "
      ]
     },
     "execution_count": 46,
     "metadata": {},
     "output_type": "execute_result"
    }
   ],
   "source": [
    "set_train=pd.DataFrame(data=scaled_xtrain,columns=xxtrain.columns)\n",
    "set_train.head()"
   ]
  },
  {
   "cell_type": "code",
   "execution_count": 47,
   "id": "7538d1f3-f0cb-49bd-9a6e-a752554eb3f3",
   "metadata": {},
   "outputs": [
    {
     "data": {
      "text/html": [
       "<div>\n",
       "<style scoped>\n",
       "    .dataframe tbody tr th:only-of-type {\n",
       "        vertical-align: middle;\n",
       "    }\n",
       "\n",
       "    .dataframe tbody tr th {\n",
       "        vertical-align: top;\n",
       "    }\n",
       "\n",
       "    .dataframe thead th {\n",
       "        text-align: right;\n",
       "    }\n",
       "</style>\n",
       "<table border=\"1\" class=\"dataframe\">\n",
       "  <thead>\n",
       "    <tr style=\"text-align: right;\">\n",
       "      <th></th>\n",
       "      <th>MONTANT</th>\n",
       "      <th>FREQUENCE_RECH</th>\n",
       "      <th>REVENUE</th>\n",
       "      <th>ARPU_SEGMENT</th>\n",
       "      <th>FREQUENCE</th>\n",
       "      <th>DATA_VOLUME</th>\n",
       "      <th>ON_NET</th>\n",
       "      <th>ORANGE</th>\n",
       "      <th>TIGO</th>\n",
       "      <th>ZONE1</th>\n",
       "      <th>ZONE2</th>\n",
       "      <th>REGULARITY</th>\n",
       "      <th>FREQ_TOP_PACK</th>\n",
       "    </tr>\n",
       "  </thead>\n",
       "  <tbody>\n",
       "    <tr>\n",
       "      <th>0</th>\n",
       "      <td>-0.092905</td>\n",
       "      <td>-0.610706</td>\n",
       "      <td>-0.087291</td>\n",
       "      <td>-0.087123</td>\n",
       "      <td>-0.750428</td>\n",
       "      <td>-0.002147</td>\n",
       "      <td>0.144269</td>\n",
       "      <td>-0.538718</td>\n",
       "      <td>-0.449734</td>\n",
       "      <td>-0.000473</td>\n",
       "      <td>0.012084</td>\n",
       "      <td>0.626266</td>\n",
       "      <td>-0.456441</td>\n",
       "    </tr>\n",
       "    <tr>\n",
       "      <th>1</th>\n",
       "      <td>-0.913498</td>\n",
       "      <td>-0.891313</td>\n",
       "      <td>-0.886017</td>\n",
       "      <td>-0.885851</td>\n",
       "      <td>-0.917596</td>\n",
       "      <td>-0.313238</td>\n",
       "      <td>0.001607</td>\n",
       "      <td>-0.608914</td>\n",
       "      <td>-0.001420</td>\n",
       "      <td>-0.000473</td>\n",
       "      <td>0.012084</td>\n",
       "      <td>0.581396</td>\n",
       "      <td>-0.883774</td>\n",
       "    </tr>\n",
       "    <tr>\n",
       "      <th>2</th>\n",
       "      <td>-0.389715</td>\n",
       "      <td>1.260009</td>\n",
       "      <td>-0.360710</td>\n",
       "      <td>-0.360885</td>\n",
       "      <td>1.004834</td>\n",
       "      <td>0.399115</td>\n",
       "      <td>-0.399378</td>\n",
       "      <td>-0.596151</td>\n",
       "      <td>-0.449734</td>\n",
       "      <td>-0.000473</td>\n",
       "      <td>0.012084</td>\n",
       "      <td>1.299308</td>\n",
       "      <td>1.359724</td>\n",
       "    </tr>\n",
       "    <tr>\n",
       "      <th>3</th>\n",
       "      <td>-0.001250</td>\n",
       "      <td>-0.000867</td>\n",
       "      <td>-0.001902</td>\n",
       "      <td>-0.001902</td>\n",
       "      <td>-0.001687</td>\n",
       "      <td>-0.002147</td>\n",
       "      <td>0.001607</td>\n",
       "      <td>-0.001440</td>\n",
       "      <td>-0.001420</td>\n",
       "      <td>-0.000473</td>\n",
       "      <td>0.012084</td>\n",
       "      <td>-0.854428</td>\n",
       "      <td>-0.001162</td>\n",
       "    </tr>\n",
       "    <tr>\n",
       "      <th>4</th>\n",
       "      <td>-0.001250</td>\n",
       "      <td>-0.000867</td>\n",
       "      <td>-0.001902</td>\n",
       "      <td>-0.001902</td>\n",
       "      <td>-0.001687</td>\n",
       "      <td>-0.002147</td>\n",
       "      <td>0.001607</td>\n",
       "      <td>-0.001440</td>\n",
       "      <td>-0.001420</td>\n",
       "      <td>-0.000473</td>\n",
       "      <td>0.012084</td>\n",
       "      <td>-0.809558</td>\n",
       "      <td>-0.001162</td>\n",
       "    </tr>\n",
       "  </tbody>\n",
       "</table>\n",
       "</div>"
      ],
      "text/plain": [
       "    MONTANT  FREQUENCE_RECH   REVENUE  ARPU_SEGMENT  FREQUENCE  DATA_VOLUME  \\\n",
       "0 -0.092905       -0.610706 -0.087291     -0.087123  -0.750428    -0.002147   \n",
       "1 -0.913498       -0.891313 -0.886017     -0.885851  -0.917596    -0.313238   \n",
       "2 -0.389715        1.260009 -0.360710     -0.360885   1.004834     0.399115   \n",
       "3 -0.001250       -0.000867 -0.001902     -0.001902  -0.001687    -0.002147   \n",
       "4 -0.001250       -0.000867 -0.001902     -0.001902  -0.001687    -0.002147   \n",
       "\n",
       "     ON_NET    ORANGE      TIGO     ZONE1     ZONE2  REGULARITY  FREQ_TOP_PACK  \n",
       "0  0.144269 -0.538718 -0.449734 -0.000473  0.012084    0.626266      -0.456441  \n",
       "1  0.001607 -0.608914 -0.001420 -0.000473  0.012084    0.581396      -0.883774  \n",
       "2 -0.399378 -0.596151 -0.449734 -0.000473  0.012084    1.299308       1.359724  \n",
       "3  0.001607 -0.001440 -0.001420 -0.000473  0.012084   -0.854428      -0.001162  \n",
       "4  0.001607 -0.001440 -0.001420 -0.000473  0.012084   -0.809558      -0.001162  "
      ]
     },
     "execution_count": 47,
     "metadata": {},
     "output_type": "execute_result"
    }
   ],
   "source": [
    "set_test=pd.DataFrame(data=scaled_xtest,columns=xtest.columns)\n",
    "set_test.head()"
   ]
  },
  {
   "cell_type": "markdown",
   "id": "e6f2554c-442b-4ba6-8420-397473ab2465",
   "metadata": {},
   "source": [
    "### SPLITTING OF THE DATASETS"
   ]
  },
  {
   "cell_type": "code",
   "execution_count": 48,
   "id": "56894eb3-e0ba-4dde-832a-d51a4e0a4e59",
   "metadata": {},
   "outputs": [],
   "source": [
    "X=set_train\n",
    "y=target\n",
    "X_train, X_test, y_train, y_test = train_test_split(X, y, test_size=0.2, random_state=42)"
   ]
  },
  {
   "cell_type": "markdown",
   "id": "ce670220-a902-4a22-bdea-c0bb61d7dd94",
   "metadata": {},
   "source": [
    "### TRAINING WITH LOGISTIC REGRESSION"
   ]
  },
  {
   "cell_type": "code",
   "execution_count": 71,
   "id": "84ba9efb-ca35-4ea2-9008-13fcc4900b90",
   "metadata": {},
   "outputs": [],
   "source": [
    "cbcmodel = CatBoostClassifier(iterations=1000,random_state=42)"
   ]
  },
  {
   "cell_type": "code",
   "execution_count": 72,
   "id": "8300fe13-6dbb-4982-b286-89680fad07c0",
   "metadata": {
    "tags": []
   },
   "outputs": [
    {
     "name": "stderr",
     "output_type": "stream",
     "text": [
      "Custom logger is already specified. Specify more than one logger at same time is not thread safe."
     ]
    },
    {
     "name": "stdout",
     "output_type": "stream",
     "text": [
      "Learning rate set to 0.5\n",
      "0:\tlearn: 0.4407665\ttotal: 969ms\tremaining: 1m 35s\n",
      "1:\tlearn: 0.3486603\ttotal: 1.94s\tremaining: 1m 34s\n",
      "2:\tlearn: 0.3041866\ttotal: 2.89s\tremaining: 1m 33s\n",
      "3:\tlearn: 0.2815060\ttotal: 3.82s\tremaining: 1m 31s\n",
      "4:\tlearn: 0.2687550\ttotal: 4.75s\tremaining: 1m 30s\n",
      "5:\tlearn: 0.2618038\ttotal: 5.7s\tremaining: 1m 29s\n",
      "6:\tlearn: 0.2578149\ttotal: 6.66s\tremaining: 1m 28s\n",
      "7:\tlearn: 0.2558887\ttotal: 7.53s\tremaining: 1m 26s\n",
      "8:\tlearn: 0.2544410\ttotal: 8.48s\tremaining: 1m 25s\n",
      "9:\tlearn: 0.2541047\ttotal: 9.4s\tremaining: 1m 24s\n",
      "10:\tlearn: 0.2533842\ttotal: 10.3s\tremaining: 1m 23s\n",
      "11:\tlearn: 0.2530068\ttotal: 11.1s\tremaining: 1m 21s\n",
      "12:\tlearn: 0.2527141\ttotal: 12s\tremaining: 1m 20s\n",
      "13:\tlearn: 0.2526386\ttotal: 12.9s\tremaining: 1m 19s\n",
      "14:\tlearn: 0.2524357\ttotal: 13.8s\tremaining: 1m 18s\n",
      "15:\tlearn: 0.2523310\ttotal: 14.8s\tremaining: 1m 17s\n",
      "16:\tlearn: 0.2522653\ttotal: 15.7s\tremaining: 1m 16s\n",
      "17:\tlearn: 0.2521546\ttotal: 16.6s\tremaining: 1m 15s\n",
      "18:\tlearn: 0.2521233\ttotal: 17.4s\tremaining: 1m 14s\n",
      "19:\tlearn: 0.2520537\ttotal: 18.8s\tremaining: 1m 15s\n",
      "20:\tlearn: 0.2519822\ttotal: 20s\tremaining: 1m 15s\n",
      "21:\tlearn: 0.2519101\ttotal: 20.9s\tremaining: 1m 13s\n",
      "22:\tlearn: 0.2518660\ttotal: 21.7s\tremaining: 1m 12s\n",
      "23:\tlearn: 0.2518363\ttotal: 22.5s\tremaining: 1m 11s\n",
      "24:\tlearn: 0.2518041\ttotal: 23.4s\tremaining: 1m 10s\n",
      "25:\tlearn: 0.2517484\ttotal: 24.4s\tremaining: 1m 9s\n",
      "26:\tlearn: 0.2517358\ttotal: 25.2s\tremaining: 1m 8s\n",
      "27:\tlearn: 0.2517140\ttotal: 26.1s\tremaining: 1m 7s\n",
      "28:\tlearn: 0.2516855\ttotal: 27s\tremaining: 1m 6s\n",
      "29:\tlearn: 0.2516547\ttotal: 28s\tremaining: 1m 5s\n",
      "30:\tlearn: 0.2516084\ttotal: 28.9s\tremaining: 1m 4s\n",
      "31:\tlearn: 0.2515794\ttotal: 29.9s\tremaining: 1m 3s\n",
      "32:\tlearn: 0.2515671\ttotal: 30.7s\tremaining: 1m 2s\n",
      "33:\tlearn: 0.2515383\ttotal: 31.5s\tremaining: 1m 1s\n",
      "34:\tlearn: 0.2515200\ttotal: 32.4s\tremaining: 1m\n",
      "35:\tlearn: 0.2514893\ttotal: 33.3s\tremaining: 59.2s\n",
      "36:\tlearn: 0.2514198\ttotal: 34.2s\tremaining: 58.2s\n",
      "37:\tlearn: 0.2513993\ttotal: 35.1s\tremaining: 57.2s\n",
      "38:\tlearn: 0.2513588\ttotal: 36.1s\tremaining: 56.5s\n",
      "39:\tlearn: 0.2513373\ttotal: 36.9s\tremaining: 55.4s\n",
      "40:\tlearn: 0.2512939\ttotal: 37.8s\tremaining: 54.4s\n",
      "41:\tlearn: 0.2512526\ttotal: 38.8s\tremaining: 53.6s\n",
      "42:\tlearn: 0.2512384\ttotal: 39.7s\tremaining: 52.6s\n",
      "43:\tlearn: 0.2512158\ttotal: 40.5s\tremaining: 51.5s\n",
      "44:\tlearn: 0.2511864\ttotal: 41.3s\tremaining: 50.5s\n",
      "45:\tlearn: 0.2511674\ttotal: 42.2s\tremaining: 49.5s\n",
      "46:\tlearn: 0.2511341\ttotal: 43.1s\tremaining: 48.6s\n",
      "47:\tlearn: 0.2511233\ttotal: 43.9s\tremaining: 47.6s\n",
      "48:\tlearn: 0.2511072\ttotal: 44.8s\tremaining: 46.6s\n",
      "49:\tlearn: 0.2510975\ttotal: 46.2s\tremaining: 46.2s\n",
      "50:\tlearn: 0.2510819\ttotal: 47.7s\tremaining: 45.8s\n",
      "51:\tlearn: 0.2510652\ttotal: 48.7s\tremaining: 45s\n",
      "52:\tlearn: 0.2510441\ttotal: 50s\tremaining: 44.3s\n",
      "53:\tlearn: 0.2510288\ttotal: 50.9s\tremaining: 43.3s\n",
      "54:\tlearn: 0.2510097\ttotal: 52.2s\tremaining: 42.7s\n",
      "55:\tlearn: 0.2509766\ttotal: 53.2s\tremaining: 41.8s\n",
      "56:\tlearn: 0.2509484\ttotal: 54.1s\tremaining: 40.8s\n",
      "57:\tlearn: 0.2509330\ttotal: 54.9s\tremaining: 39.7s\n",
      "58:\tlearn: 0.2509217\ttotal: 55.8s\tremaining: 38.7s\n",
      "59:\tlearn: 0.2509083\ttotal: 56.7s\tremaining: 37.8s\n",
      "60:\tlearn: 0.2508963\ttotal: 57.6s\tremaining: 36.8s\n",
      "61:\tlearn: 0.2508606\ttotal: 58.6s\tremaining: 35.9s\n",
      "62:\tlearn: 0.2508441\ttotal: 59.5s\tremaining: 34.9s\n",
      "63:\tlearn: 0.2508224\ttotal: 1m\tremaining: 34s\n",
      "64:\tlearn: 0.2508199\ttotal: 1m 1s\tremaining: 33.2s\n",
      "65:\tlearn: 0.2508190\ttotal: 1m 2s\tremaining: 32.1s\n",
      "66:\tlearn: 0.2508127\ttotal: 1m 3s\tremaining: 31.4s\n",
      "67:\tlearn: 0.2508033\ttotal: 1m 5s\tremaining: 30.6s\n",
      "68:\tlearn: 0.2507900\ttotal: 1m 6s\tremaining: 29.8s\n",
      "69:\tlearn: 0.2507832\ttotal: 1m 7s\tremaining: 29s\n",
      "70:\tlearn: 0.2507702\ttotal: 1m 8s\tremaining: 28s\n",
      "71:\tlearn: 0.2507453\ttotal: 1m 9s\tremaining: 27s\n",
      "72:\tlearn: 0.2507383\ttotal: 1m 10s\tremaining: 26s\n",
      "73:\tlearn: 0.2507275\ttotal: 1m 11s\tremaining: 25.1s\n",
      "74:\tlearn: 0.2507026\ttotal: 1m 12s\tremaining: 24.1s\n",
      "75:\tlearn: 0.2506822\ttotal: 1m 13s\tremaining: 23.1s\n",
      "76:\tlearn: 0.2506656\ttotal: 1m 14s\tremaining: 22.3s\n",
      "77:\tlearn: 0.2506617\ttotal: 1m 15s\tremaining: 21.4s\n",
      "78:\tlearn: 0.2506389\ttotal: 1m 16s\tremaining: 20.4s\n",
      "79:\tlearn: 0.2506211\ttotal: 1m 17s\tremaining: 19.5s\n",
      "80:\tlearn: 0.2506042\ttotal: 1m 18s\tremaining: 18.5s\n",
      "81:\tlearn: 0.2505990\ttotal: 1m 19s\tremaining: 17.5s\n",
      "82:\tlearn: 0.2505800\ttotal: 1m 20s\tremaining: 16.5s\n",
      "83:\tlearn: 0.2505572\ttotal: 1m 21s\tremaining: 15.5s\n",
      "84:\tlearn: 0.2505427\ttotal: 1m 22s\tremaining: 14.5s\n",
      "85:\tlearn: 0.2505357\ttotal: 1m 23s\tremaining: 13.5s\n",
      "86:\tlearn: 0.2505195\ttotal: 1m 24s\tremaining: 12.6s\n",
      "87:\tlearn: 0.2505038\ttotal: 1m 25s\tremaining: 11.6s\n",
      "88:\tlearn: 0.2504893\ttotal: 1m 25s\tremaining: 10.6s\n",
      "89:\tlearn: 0.2504689\ttotal: 1m 26s\tremaining: 9.65s\n",
      "90:\tlearn: 0.2504552\ttotal: 1m 27s\tremaining: 8.69s\n",
      "91:\tlearn: 0.2504381\ttotal: 1m 28s\tremaining: 7.73s\n",
      "92:\tlearn: 0.2504280\ttotal: 1m 29s\tremaining: 6.76s\n",
      "93:\tlearn: 0.2504250\ttotal: 1m 30s\tremaining: 5.78s\n",
      "94:\tlearn: 0.2504161\ttotal: 1m 32s\tremaining: 4.84s\n",
      "95:\tlearn: 0.2504119\ttotal: 1m 33s\tremaining: 3.88s\n",
      "96:\tlearn: 0.2503857\ttotal: 1m 34s\tremaining: 2.92s\n",
      "97:\tlearn: 0.2503692\ttotal: 1m 35s\tremaining: 1.96s\n",
      "98:\tlearn: 0.2503591\ttotal: 1m 36s\tremaining: 978ms\n",
      "99:\tlearn: 0.2503417\ttotal: 1m 38s\tremaining: 0us\n"
     ]
    },
    {
     "data": {
      "text/plain": [
       "<catboost.core.CatBoostClassifier at 0x27f3c23b940>"
      ]
     },
     "execution_count": 72,
     "metadata": {},
     "output_type": "execute_result"
    }
   ],
   "source": [
    "cbcmodel.fit(X_train,y_train)"
   ]
  },
  {
   "cell_type": "code",
   "execution_count": 73,
   "id": "49b6ceeb-eaa0-4382-9d27-52411008879d",
   "metadata": {},
   "outputs": [],
   "source": [
    "cbcpredictions = cbcmodel.predict_proba(X_test)[:,1]"
   ]
  },
  {
   "cell_type": "code",
   "execution_count": 74,
   "id": "c563fab8-e6dc-44f6-87f0-7150f49aa72e",
   "metadata": {},
   "outputs": [
    {
     "name": "stdout",
     "output_type": "stream",
     "text": [
      "0.9313207024981327\n"
     ]
    }
   ],
   "source": [
    "print(roc_auc_score(y_test,cbcpredictions))"
   ]
  },
  {
   "cell_type": "code",
   "execution_count": 75,
   "id": "cc73c882-bbdf-49ea-b0ab-50f3c29b766a",
   "metadata": {},
   "outputs": [
    {
     "data": {
      "text/plain": [
       "array([0.00097224, 0.06153111, 0.00068195, ..., 0.26734291, 0.16631037,\n",
       "       0.01112339])"
      ]
     },
     "execution_count": 75,
     "metadata": {},
     "output_type": "execute_result"
    }
   ],
   "source": [
    "testpredi=cbcmodel.predict_proba(test)[:,1]\n",
    "testpredi"
   ]
  },
  {
   "cell_type": "markdown",
   "id": "a4276054-8ac5-44e0-8c26-00632cf6fe9b",
   "metadata": {},
   "source": [
    "### TRAINING WITH LIGHT GRADIENT BOOSTING MACHINE "
   ]
  },
  {
   "cell_type": "code",
   "execution_count": 121,
   "id": "0cabaff7-00e8-4491-9efb-c273a2b97857",
   "metadata": {},
   "outputs": [],
   "source": [
    "gbm = lgb.LGBMClassifier(random_state=42)"
   ]
  },
  {
   "cell_type": "code",
   "execution_count": 122,
   "id": "ebb0320c-465f-4248-86db-40e08d4d4f2b",
   "metadata": {},
   "outputs": [
    {
     "data": {
      "text/plain": [
       "LGBMClassifier(random_state=42)"
      ]
     },
     "execution_count": 122,
     "metadata": {},
     "output_type": "execute_result"
    }
   ],
   "source": [
    "gbm.fit(X_train,y_train)"
   ]
  },
  {
   "cell_type": "code",
   "execution_count": 125,
   "id": "4c482199-1b7a-421e-8cfd-0815886b3ee6",
   "metadata": {},
   "outputs": [],
   "source": [
    "gbmpredictions=gbm.predict_proba(X_test)[:,1]"
   ]
  },
  {
   "cell_type": "code",
   "execution_count": 126,
   "id": "fa6863ef-49fe-446d-8dc1-d83d30920e4a",
   "metadata": {},
   "outputs": [
    {
     "name": "stdout",
     "output_type": "stream",
     "text": [
      "0.9027025737104825\n"
     ]
    }
   ],
   "source": [
    "print(roc_auc_score(y_test,gbmpredictions))"
   ]
  },
  {
   "cell_type": "code",
   "execution_count": 127,
   "id": "748a5634-3af7-4355-8986-97d2d4022535",
   "metadata": {},
   "outputs": [
    {
     "data": {
      "text/plain": [
       "array([0.02110342, 0.01772796, 0.01443515, ..., 0.18002598, 0.0722482 ,\n",
       "       0.13095309])"
      ]
     },
     "execution_count": 127,
     "metadata": {},
     "output_type": "execute_result"
    }
   ],
   "source": [
    "testpredc=gbm.predict_proba(set_test)[:,1]\n",
    "testpredc"
   ]
  },
  {
   "cell_type": "code",
   "execution_count": 169,
   "id": "804a027b-9b78-4cba-a509-67968e4cf50b",
   "metadata": {},
   "outputs": [],
   "source": [
    "cbcmodel = CatBoostClassifier(iterations=100,random_state=42,verbose=False)\n",
    "gbm = lgb.LGBMClassifier(random_state=42)\n",
    "vot = StackingClassifier(estimators=[('lr', cbcmodel), ('rf', gbm),],n_jobs=-1)"
   ]
  },
  {
   "cell_type": "code",
   "execution_count": 170,
   "id": "feaade31-f925-49ea-8b09-a758e08f438a",
   "metadata": {
    "tags": []
   },
   "outputs": [
    {
     "data": {
      "text/plain": [
       "StackingClassifier(estimators=[('lr',\n",
       "                                <catboost.core.CatBoostClassifier object at 0x000002680A676490>),\n",
       "                               ('rf', LGBMClassifier(random_state=42))],\n",
       "                   n_jobs=-1)"
      ]
     },
     "execution_count": 170,
     "metadata": {},
     "output_type": "execute_result"
    }
   ],
   "source": [
    "vot.fit(X_train,y_train)"
   ]
  },
  {
   "cell_type": "code",
   "execution_count": 171,
   "id": "c4306432-aba3-4f2d-aecc-0426b24af11d",
   "metadata": {},
   "outputs": [],
   "source": [
    "votpredictions = vot.predict_proba(X_test)[:,1]"
   ]
  },
  {
   "cell_type": "code",
   "execution_count": 172,
   "id": "c428b6a8-5bfd-4b8e-b1ce-3f5cf226b5fa",
   "metadata": {},
   "outputs": [
    {
     "name": "stdout",
     "output_type": "stream",
     "text": [
      "0.9028747376082291\n"
     ]
    }
   ],
   "source": [
    "print(roc_auc_score(y_test,votpredictions))"
   ]
  },
  {
   "cell_type": "code",
   "execution_count": 173,
   "id": "7bef8a3a-4b62-4754-9ca9-9a2c2a8b2230",
   "metadata": {},
   "outputs": [
    {
     "data": {
      "text/plain": [
       "array([0.04101859, 0.04033034, 0.03898313, ..., 0.09053757, 0.05436779,\n",
       "       0.09692894])"
      ]
     },
     "execution_count": 173,
     "metadata": {},
     "output_type": "execute_result"
    }
   ],
   "source": [
    "testpredvot=vot.predict_proba(set_test)[:,1]\n",
    "testpredvot"
   ]
  },
  {
   "cell_type": "markdown",
   "id": "157fb177-2de0-4c2c-807f-cc49712c94b7",
   "metadata": {},
   "source": [
    "### BLENDING"
   ]
  },
  {
   "cell_type": "code",
   "execution_count": 134,
   "id": "d7bc1c7b-02ca-4d13-bb82-07a0c1c560d6",
   "metadata": {},
   "outputs": [],
   "source": [
    "blendpredictions=(0.3*gbmpredictions)+(0.7*cbcpredictions)"
   ]
  },
  {
   "cell_type": "code",
   "execution_count": 135,
   "id": "99d2559b-b935-45c2-be93-705f26884a60",
   "metadata": {},
   "outputs": [
    {
     "data": {
      "text/plain": [
       "array([0.05957739, 0.04867899, 0.64087965, 0.01370878, 0.01659277])"
      ]
     },
     "execution_count": 135,
     "metadata": {},
     "output_type": "execute_result"
    }
   ],
   "source": [
    "blendpredictions[:5]"
   ]
  },
  {
   "cell_type": "code",
   "execution_count": 136,
   "id": "efdea736-0c7d-4543-aba5-9040a7df5cbb",
   "metadata": {},
   "outputs": [
    {
     "name": "stdout",
     "output_type": "stream",
     "text": [
      "0.9020550283615303\n"
     ]
    }
   ],
   "source": [
    "print(roc_auc_score(y_test,blendpredictions))"
   ]
  },
  {
   "cell_type": "code",
   "execution_count": 145,
   "id": "0156067b-915e-4324-b458-0b422f2022a8",
   "metadata": {},
   "outputs": [],
   "source": [
    "blendpredictiontest=(0.5*testpredc)+(0.5*testpredi)"
   ]
  },
  {
   "cell_type": "code",
   "execution_count": 146,
   "id": "d64b3f15-d251-492b-97ac-09d8304dde67",
   "metadata": {},
   "outputs": [
    {
     "data": {
      "text/plain": [
       "array([0.01933181, 0.01770562, 0.01369366, 0.307529  , 0.27364078])"
      ]
     },
     "execution_count": 146,
     "metadata": {},
     "output_type": "execute_result"
    }
   ],
   "source": [
    "blendpredictiontest[:5]"
   ]
  },
  {
   "cell_type": "code",
   "execution_count": 87,
   "id": "1b403b51-cf3c-44fc-b6cc-3dbd2d97db55",
   "metadata": {},
   "outputs": [
    {
     "data": {
      "text/plain": [
       "3.950589862333764e-05"
      ]
     },
     "execution_count": 87,
     "metadata": {},
     "output_type": "execute_result"
    }
   ],
   "source": [
    "0.931360208396756-0.9313207024981327"
   ]
  },
  {
   "cell_type": "code",
   "execution_count": 85,
   "id": "ddbba0ea-aa23-4351-b803-a19943070747",
   "metadata": {},
   "outputs": [],
   "source": [
    "samplesubmission.CHURN = blend_prediction_test"
   ]
  },
  {
   "cell_type": "code",
   "execution_count": 86,
   "id": "e85c6e99-c0f3-425d-a37e-90e08429f4ba",
   "metadata": {},
   "outputs": [],
   "source": [
    "samplesubmission.to_csv('blended_catboost_lightgbm.csv',index =  False)"
   ]
  }
 ],
 "metadata": {
  "kernelspec": {
   "display_name": "firstEnv",
   "language": "python",
   "name": "firstenv"
  },
  "language_info": {
   "codemirror_mode": {
    "name": "ipython",
    "version": 3
   },
   "file_extension": ".py",
   "mimetype": "text/x-python",
   "name": "python",
   "nbconvert_exporter": "python",
   "pygments_lexer": "ipython3",
   "version": "3.8.8"
  }
 },
 "nbformat": 4,
 "nbformat_minor": 5
}
